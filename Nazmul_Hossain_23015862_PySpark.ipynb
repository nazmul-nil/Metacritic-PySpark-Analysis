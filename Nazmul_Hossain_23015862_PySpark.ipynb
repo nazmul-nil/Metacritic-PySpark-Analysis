{
  "cells": [
    {
      "cell_type": "markdown",
      "source": [
        "**Nazmul Hossain** <br>\n",
        "**23015862** <br>\n",
        "Google Drive Link: [https://colab.research.google.com/drive/1BAXrpuuSrmZ_sJC330W4AYZ_CqYAZtGB?usp=drive_link](https://colab.research.google.com/drive/1BAXrpuuSrmZ_sJC330W4AYZ_CqYAZtGB?usp=drive_link)"
      ],
      "metadata": {
        "id": "kmWWbCEZgPGO"
      }
    },
    {
      "cell_type": "markdown",
      "metadata": {
        "id": "04k66G6XOD3o"
      },
      "source": [
        "# CW1 - Metacritic Analysis with PySpark\n",
        "\n",
        "In this assignment you will be tasked with exploring a dataset containing Metacritic entries up to year 2020. You should complete the exercises presented in the Google Colab Notebook below. This assignment will be graded using CodeGrade.\n",
        "\n",
        "In the text below you will be asked to perform queries with pyspark. In the code boxes you will find the variable name has been set up for you with a comment that says ```#Complete here``` - please remove the comment and insert your code.\n",
        "\n",
        "* **Exercise 1 (6 Marks)**:  \n",
        "\n",
        "  a)  Filter and show all the titles with a score higher or equal to 95 released from 2017\n",
        "\n",
        "  b)  Create a dataframe that contains, for each developer, the number of distinct titles, the average score, the average user score, the total number of critics and the total number of users.\n",
        "\n",
        "  Sort by the number of titles in descending order.\n",
        "\n",
        "* **Exercise 2 (6 Marks)**:\n",
        "\n",
        "  a) Print the total number of multi-platform titles in the data, i.e. the distinct titles which appear for at least two different platforms.\n",
        "\n",
        "  b) Print the name of the developer which has developed titles for the highest number of distinct platforms.\n",
        "\n",
        "* **Exercise 3 (6 Marks)**:\n",
        "\n",
        "  Group the data by platform. Show, for each platform, its highest rated title, the total number of titles and the total number of critics.\n",
        "\n",
        "  Sort by the Number of Titles in descending order.\n",
        "\n",
        "* **Exercise 4 (6 Marks)**:\n",
        "\n",
        "  Print the name of the Platform with the highest percentage of titles of \"Open-World\" genre.\n",
        "\n",
        "* **Exercise 5 (6 Marks)**:\n",
        "  Let's call a title Single Player if and only if its feature player is equal either to \"1 Player\" or \"No Online Multiplayer\".\n",
        "\n",
        "  * Print the total number of distinct Single Player titles.\n",
        "\n",
        "  * Print the total number of developers which have developed at least one Single Player title."
      ]
    },
    {
      "cell_type": "code",
      "execution_count": null,
      "metadata": {
        "colab": {
          "base_uri": "https://localhost:8080/"
        },
        "id": "ET8I9mU4vcZy",
        "outputId": "be462d4c-aac2-4451-f8e9-85737368e417"
      },
      "outputs": [
        {
          "output_type": "stream",
          "name": "stdout",
          "text": [
            "Mounted at /content/drive\n"
          ]
        }
      ],
      "source": [
        "# from google.colab import drive\n",
        "# drive.mount('/content/drive')"
      ]
    },
    {
      "cell_type": "code",
      "execution_count": null,
      "metadata": {
        "colab": {
          "base_uri": "https://localhost:8080/"
        },
        "id": "I6b460JnN-7H",
        "outputId": "9cb941ed-13e6-41ed-bffb-8aa0b7e75b64"
      },
      "outputs": [
        {
          "output_type": "stream",
          "name": "stdout",
          "text": [
            "Drive already mounted at /content/drive; to attempt to forcibly remount, call drive.mount(\"/content/drive\", force_remount=True).\n"
          ]
        }
      ],
      "source": [
        "# CodeGrade Tag Init1\n",
        "\n",
        "# from google.colab import drive\n",
        "# drive.mount('/content/drive')"
      ]
    },
    {
      "cell_type": "code",
      "execution_count": null,
      "metadata": {
        "id": "Ya7WJUs2PwZF"
      },
      "outputs": [],
      "source": [
        "# CodeGrade Tag Init2\n",
        "\n",
        "# Apache Spark uses Java, so first we must install that\n",
        "!apt-get install openjdk-8-jdk-headless -qq > /dev/null\n",
        "\n",
        "# Unpack Spark from google drive\n",
        "!tar xzf /content/drive/MyDrive/spark-3.3.0-bin-hadoop3.tgz\n",
        "\n",
        "# Set up environment variables\n",
        "import os\n",
        "os.environ[\"JAVA_HOME\"] = \"/usr/lib/jvm/java-8-openjdk-amd64\"\n",
        "os.environ[\"SPARK_HOME\"] = \"spark-3.3.0-bin-hadoop3\"\n",
        "\n",
        "# Install findspark, which helps python locate the psyspark module files\n",
        "!pip install -q findspark\n",
        "import findspark\n",
        "findspark.init()"
      ]
    },
    {
      "cell_type": "code",
      "execution_count": null,
      "metadata": {
        "id": "qoS2qInhP_jy"
      },
      "outputs": [],
      "source": [
        "# Finally, we initialse a \"SparkSession\", which handles the computations\n",
        "from pyspark.sql import SparkSession\n",
        "spark = SparkSession.builder\\\n",
        "        .master(\"local\")\\\n",
        "        .appName(\"Colab\")\\\n",
        "        .config('spark.ui.port', '4050')\\\n",
        "        .getOrCreate()\n",
        "\n",
        "# pyspark.sql.functions countains all the transformations and actions you will\n",
        "# need\n",
        "\n",
        "from pyspark.sql import functions as F\n",
        "from pyspark.sql.functions import col"
      ]
    },
    {
      "cell_type": "code",
      "execution_count": null,
      "metadata": {
        "id": "u_sX_aYiGMrH"
      },
      "outputs": [],
      "source": [
        "# Load the games-data.csv file into your notebook as a pyspark dataframe\n",
        "\n",
        "CsvPath = '/content/games-data.csv'\n",
        "# /content/games-data.csv\n",
        "# Load .csv with header, ',' seperators and inferred schema\n",
        "GamesDF = spark.read\\\n",
        "                     .option('header', 'True')\\\n",
        "                     .option(\"escapeQuotes\", \"True\")\\\n",
        "                     .option('sep', ',')\\\n",
        "                     .option('inferSchema', 'True')\\\n",
        "                     .csv(CsvPath)"
      ]
    },
    {
      "cell_type": "code",
      "execution_count": null,
      "metadata": {
        "id": "aa7_iI4oEu7r"
      },
      "outputs": [],
      "source": [
        "# In this cell we perform some minimal preprocessing\n",
        "# First, drop all rows containing null values\n",
        "\n",
        "GamesDF = GamesDF.na.drop()\n",
        "\n",
        "# Second, we extract the year from the release date\n",
        "\n",
        "GamesDF = GamesDF.withColumn(\"year\",\n",
        "                             F.regexp_extract(\"r-date\", r\"(.),(\\s+)(\\w+)\", 3))\n",
        "GamesDF = GamesDF.withColumn('year', GamesDF['year'].cast('int'))\n",
        "GamesDF = GamesDF.drop('r-date')"
      ]
    },
    {
      "cell_type": "code",
      "execution_count": null,
      "metadata": {
        "colab": {
          "base_uri": "https://localhost:8080/"
        },
        "id": "kS0QdyQjG8yK",
        "outputId": "2e3ef4e6-6e43-43b2-e2b6-cfa4c448243d"
      },
      "outputs": [
        {
          "output_type": "stream",
          "name": "stdout",
          "text": [
            "root\n",
            " |-- name: string (nullable = true)\n",
            " |-- platform: string (nullable = true)\n",
            " |-- score: integer (nullable = true)\n",
            " |-- user score: string (nullable = true)\n",
            " |-- developer: string (nullable = true)\n",
            " |-- genre: string (nullable = true)\n",
            " |-- players: string (nullable = true)\n",
            " |-- critics: integer (nullable = true)\n",
            " |-- users: integer (nullable = true)\n",
            " |-- year: integer (nullable = true)\n",
            "\n",
            "+--------------------+------------+-----+----------+--------------------+--------------------+--------------------+-------+-----+----+\n",
            "|                name|    platform|score|user score|           developer|               genre|             players|critics|users|year|\n",
            "+--------------------+------------+-----+----------+--------------------+--------------------+--------------------+-------+-----+----+\n",
            "|The Legend of Zel...|  Nintendo64|   99|       9.1|            Nintendo|Action Adventure,...|            1 Player|     22| 5749|1998|\n",
            "|Tony Hawk's Pro S...| PlayStation|   98|       7.4|NeversoftEntertai...|Sports,Alternativ...|                1-2 |     19|  647|2000|\n",
            "| Grand Theft Auto IV|PlayStation3|   98|       7.6|       RockstarNorth|Action Adventure,...|            1 Player|     64| 3806|2008|\n",
            "|         SoulCalibur|   Dreamcast|   98|       8.5|               Namco|  Action,Fighting,3D|                1-2 |     24|  324|1999|\n",
            "| Grand Theft Auto IV|     Xbox360|   98|       7.9|       RockstarNorth|Action Adventure,...|            1 Player|     86| 3364|2008|\n",
            "|  Super Mario Galaxy|         Wii|   97|       9.0|            Nintendo|Action,Platformer...|No Online Multipl...|     73| 3059|2007|\n",
            "|Super Mario Galaxy 2|         Wii|   97|       9.1|    NintendoEADTokyo|Action,Platformer...|No Online Multipl...|     87| 2521|2010|\n",
            "|Red Dead Redempti...|     XboxOne|   97|       7.8|       RockstarGames|Action Adventure,...|           Up to 32 |     33| 3186|2018|\n",
            "|  Grand Theft Auto V|     XboxOne|   97|       7.8|       RockstarNorth|Action Adventure,...|           Up to 30 |     14| 1285|2014|\n",
            "|  Grand Theft Auto V|PlayStation3|   97|       8.3|       RockstarNorth|Modern,Action Adv...|           Up to 16 |     50| 4568|2013|\n",
            "|  Grand Theft Auto V|     Xbox360|   97|       8.3|       RockstarNorth|Modern,Action Adv...|           Up to 16 |     58| 3905|2013|\n",
            "|Tony Hawk's Pro S...|   Dreamcast|   97|       6.2|            Treyarch|Sports,Alternativ...|             No info|     18|   88|2000|\n",
            "|The Legend of Zel...|      Switch|   97|       8.6|            Nintendo|Action Adventure,...|No Online Multipl...|    109|15873|2017|\n",
            "|Tony Hawk's Pro S...|PlayStation2|   97|       7.6|NeversoftEntertai...|Sports,Alternativ...|                1-2 |     34|  406|2001|\n",
            "|        Perfect Dark|  Nintendo64|   97|       8.9|            RareLtd.|Action,Shooter,Fi...|             No info|     30|  420|2000|\n",
            "|Red Dead Redempti...|PlayStation4|   97|       8.4|       RockstarGames|Action Adventure,...|           Up to 32 |     99|14315|2018|\n",
            "|  Grand Theft Auto V|PlayStation4|   97|       8.4|       RockstarNorth|Action Adventure,...|           Up to 30 |     66| 5899|2014|\n",
            "|       Metroid Prime|    GameCube|   97|       9.2|        RetroStudios|Action,Shooter,Fi...|            1 Player|     70| 1113|2002|\n",
            "|Grand Theft Auto III|PlayStation2|   97|       8.4|           DMADesign|Action Adventure,...|            1 Player|     56|  881|2001|\n",
            "| Super Mario Odyssey|      Switch|   97|       8.9|            Nintendo|Action,Platformer,3D|No Online Multipl...|    113| 5546|2017|\n",
            "+--------------------+------------+-----+----------+--------------------+--------------------+--------------------+-------+-----+----+\n",
            "only showing top 20 rows\n",
            "\n"
          ]
        }
      ],
      "source": [
        "# CodeGrade Tag Init3\n",
        "\n",
        "GamesDF.printSchema()\n",
        "GamesDF.show()"
      ]
    },
    {
      "cell_type": "markdown",
      "metadata": {
        "id": "1QlcZETyTyT7"
      },
      "source": [
        "# Exercise 1\n",
        "\n",
        "a) Filter and show all the titles with a score higher or equal to 95 released from 2017"
      ]
    },
    {
      "cell_type": "code",
      "execution_count": null,
      "metadata": {
        "colab": {
          "base_uri": "https://localhost:8080/"
        },
        "id": "XvFHxhta6Lva",
        "outputId": "0b422bc7-b69a-4070-97c9-7153e4ad8384"
      },
      "outputs": [
        {
          "output_type": "stream",
          "name": "stdout",
          "text": [
            "+---------------------------------------+------------+-----+----------+-------------+-------------------------------------------+---------------------+-------+-----+----+\n",
            "|name                                   |platform    |score|user score|developer    |genre                                      |players              |critics|users|year|\n",
            "+---------------------------------------+------------+-----+----------+-------------+-------------------------------------------+---------------------+-------+-----+----+\n",
            "|Red Dead Redemption 2                  |XboxOne     |97   |7.8       |RockstarGames|Action Adventure,Open-World                |Up to 32             |33     |3186 |2018|\n",
            "|The Legend of Zelda: Breath of the Wild|Switch      |97   |8.6       |Nintendo     |Action Adventure,Open-World                |No Online Multiplayer|109    |15873|2017|\n",
            "|Red Dead Redemption 2                  |PlayStation4|97   |8.4       |RockstarGames|Action Adventure,Open-World                |Up to 32             |99     |14315|2018|\n",
            "|Super Mario Odyssey                    |Switch      |97   |8.9       |Nintendo     |Action,Platformer,3D                       |No Online Multiplayer|113    |5546 |2017|\n",
            "|The Legend of Zelda: Breath of the Wild|WiiU        |96   |8.2       |Nintendo     |Fantasy,Fantasy,Action Adventure,Open-World|No Online Multiplayer|13     |2245 |2017|\n",
            "|Persona 5 Royal                        |PlayStation4|95   |8.2       |Atlus        |Role-Playing,Japanese-Style                |No Online Multiplayer|71     |2593 |2020|\n",
            "+---------------------------------------+------------+-----+----------+-------------+-------------------------------------------+---------------------+-------+-----+----+\n",
            "\n"
          ]
        }
      ],
      "source": [
        "# CodeGrade Tag Ex1a\n",
        "### Filter and show all the titles with a score higher or equal to 95\n",
        "### released from 2017\n",
        "\n",
        "GamesDF.filter(GamesDF.score >= 95).filter(GamesDF.year >= 2017).show(truncate=False)"
      ]
    },
    {
      "cell_type": "markdown",
      "metadata": {
        "id": "nuSgzl6DZ33Z"
      },
      "source": [
        "b) Create a dataframe that contains, for each developer, the number of distinct titles, the average score, the average user score, the total number of critics and the total number of users.\n",
        "\n",
        "Make sure the columns have the following names:\n",
        "\n",
        "```developer|Number of Titles|Average Score|Average User Score|Total Critics|Total Users```\n",
        "\n",
        "Sort by the number of titles in descending order."
      ]
    },
    {
      "cell_type": "code",
      "execution_count": 40,
      "metadata": {
        "colab": {
          "base_uri": "https://localhost:8080/"
        },
        "id": "AzsBLIkNgdHm",
        "outputId": "9747c2b2-8900-428c-9fe7-4c283de3dd6b"
      },
      "outputs": [
        {
          "output_type": "stream",
          "name": "stdout",
          "text": [
            "+------------------+----------------+-----------------+------------------+-------------+-----------+\n",
            "|         developer|Number of Titles|    Average Score|Average User Score|Total Critics|Total Users|\n",
            "+------------------+----------------+-----------------+------------------+-------------+-----------+\n",
            "|            Capcom|             184| 74.9054054054054|197.53716216216216|         8463|      58471|\n",
            "|          Nintendo|             140|80.38028169014085| 578.2253521126761|         5926|      82108|\n",
            "|     TelltaleGames|             120|75.30932203389831|110.39830508474576|         4227|      26054|\n",
            "|            Konami|             120|69.84180790960453| 75.91525423728814|         3470|      13437|\n",
            "|           Ubisoft|              90|67.67647058823529|181.40441176470588|         3031|      24671|\n",
            "|          EASports|              79| 79.8051282051282|102.86153846153846|         4294|      20058|\n",
            "|        SquareEnix|              78|75.38317757009345|419.05607476635515|         3580|      44839|\n",
            "|          EACanada|              73|76.53488372093024| 51.72674418604651|         4493|       8897|\n",
            "|   UbisoftMontreal|              71|75.10958904109589|433.28767123287673|         4571|      63260|\n",
            "|        OmegaForce|              63|66.12765957446808|52.329787234042556|         2486|       4919|\n",
            "|    ElectronicArts|              60|74.53465346534654|126.04950495049505|         2410|      12731|\n",
            "|              Sega|              59|72.30555555555556|            63.125|         1798|       4545|\n",
            "|             Namco|              56|75.61194029850746| 66.86567164179104|         2085|       4480|\n",
            "|  VicariousVisions|              54|73.91891891891892| 53.83783783783784|         1716|       3984|\n",
            "|  BandaiNamcoGames|              50|68.59677419354838|159.96774193548387|         1904|       9918|\n",
            "|NipponIchiSoftware|              48|73.21153846153847| 49.59615384615385|         1243|       2579|\n",
            "|    DigitalEclipse|              47|67.87719298245614|17.017543859649123|          905|        970|\n",
            "|         EATiburon|              45|            76.17|             40.31|         2638|       4031|\n",
            "|    ArcSystemWorks|              44|74.01666666666667| 65.58333333333333|         1306|       3935|\n",
            "|      FromSoftware|              44|74.33846153846154| 661.9538461538461|         2080|      43027|\n",
            "+------------------+----------------+-----------------+------------------+-------------+-----------+\n",
            "only showing top 20 rows\n",
            "\n"
          ]
        }
      ],
      "source": [
        "# CodeGrade Tag Ex1b\n",
        "### Create a dataframe that contains, for each developer, the number of distinct\n",
        "### titles, the average score, the average user score, the total number of\n",
        "### critics and the total number of users. Sort by the number of titles in\n",
        "### descending order.\n",
        "\n",
        "developer_stats = (\n",
        "    GamesDF.groupBy(\"developer\")\n",
        "    .agg(\n",
        "        F.countDistinct(\"name\").alias(\"Number of Titles\"),\n",
        "        F.avg(\"score\").alias(\"Average Score\"),\n",
        "        F.avg(\"user score\").alias(\"Average User Score\"),\n",
        "        F.sum(\"critics\").alias(\"Total Critics\"),\n",
        "        F.sum(\"users\").alias(\"Total Users\")\n",
        "    )\n",
        ")\n",
        "\n",
        "# Sort and show result\n",
        "developer_stats_sorted = developer_stats.orderBy(\"Number of Titles\", ascending=False)\n",
        "\n",
        "# Show the results\n",
        "developer_stats_sorted.show()"
      ]
    },
    {
      "cell_type": "markdown",
      "metadata": {
        "id": "GS543A9QRBpn"
      },
      "source": [
        "### Exercise 2\n",
        "\n",
        "a) Print the total number of multi-platform titles in the data, i.e. the distinct titles which appear for *at least two* different platforms."
      ]
    },
    {
      "cell_type": "code",
      "execution_count": 37,
      "metadata": {
        "colab": {
          "base_uri": "https://localhost:8080/"
        },
        "id": "IuMuVoeZCgdk",
        "outputId": "686b28c2-c377-4a18-bdb0-b2bebf845f5f"
      },
      "outputs": [
        {
          "output_type": "stream",
          "name": "stdout",
          "text": [
            "Number of multi-platform titles: 3588\n"
          ]
        }
      ],
      "source": [
        "# CodeGrade Tag Ex2a\n",
        "### Print the total number of multi-platform titles in the data, i.e.\n",
        "### the distinct titles which appear for at least two different platforms\n",
        "\n",
        "n_multi_titles = GamesDF.select('name', 'platform').groupBy('name').count().filter(F.countDistinct('platform')>=2).count()\n",
        "\n",
        "print(f\"Number of multi-platform titles: {n_multi_titles}\")"
      ]
    },
    {
      "cell_type": "markdown",
      "metadata": {
        "id": "jyo8B0zUT6DJ"
      },
      "source": [
        "b) Print the name of the developer which has developed titles for the highest number of distinct platforms."
      ]
    },
    {
      "cell_type": "code",
      "execution_count": null,
      "metadata": {
        "id": "PN38c0u7SNVl",
        "colab": {
          "base_uri": "https://localhost:8080/"
        },
        "outputId": "14e7a4c5-903e-4c29-c0a1-dbbdd431f7c1"
      },
      "outputs": [
        {
          "output_type": "stream",
          "name": "stdout",
          "text": [
            "Developer for highest number of platforms: Konami\n"
          ]
        }
      ],
      "source": [
        "# CodeGrade Tag Ex2b\n",
        "### Print the developer which has developed titles for the highest number\n",
        "### of distinct platforms\n",
        "\n",
        "developer_most_platforms = GamesDF.select('developer', 'platform').distinct().groupBy('developer').count().orderBy('count', ascending = False).collect()[0][0]\n",
        "\n",
        "print(f\"Developer for highest number of platforms: {developer_most_platforms}\")"
      ]
    },
    {
      "cell_type": "markdown",
      "metadata": {
        "id": "l_DwW41dX9aT"
      },
      "source": [
        "# Exercise 3\n",
        "\n",
        "Group the data by platform. Show, for each platform, its highest rated title, the total number of titles and the total number of critics.\n",
        "\n",
        "Create a dataframe where the columns are:\n",
        "\n",
        "```Platform|Highest Rated Tile|Number of Titles|Number of Critics```\n",
        "\n",
        "Sort by the Number of Titles in descending order."
      ]
    },
    {
      "cell_type": "code",
      "execution_count": 38,
      "metadata": {
        "id": "IxowyQGojhGX",
        "colab": {
          "base_uri": "https://localhost:8080/"
        },
        "outputId": "feac5126-837d-497d-ff25-4c0589568010"
      },
      "outputs": [
        {
          "output_type": "stream",
          "name": "stdout",
          "text": [
            "+---------------+---------------------------------------+----------------+-----------------+\n",
            "|platform       |Highest Rated Title                    |Number of Titles|Number of Critics|\n",
            "+---------------+---------------------------------------+----------------+-----------------+\n",
            "|PC             |Half-Life 2                            |4578            |89340            |\n",
            "|PlayStation4   |Red Dead Redemption 2                  |1926            |51104            |\n",
            "|Xbox360        |Grand Theft Auto IV                    |1665            |57283            |\n",
            "|PlayStation2   |Tony Hawk's Pro Skater 3               |1418            |34278            |\n",
            "|PlayStation3   |Grand Theft Auto IV                    |1268            |37679            |\n",
            "|Switch         |The Legend of Zelda: Breath of the Wild|1122            |19891            |\n",
            "|XboxOne        |Red Dead Redemption 2                  |1118            |17818            |\n",
            "|Xbox           |Halo: Combat Evolved                   |793             |21233            |\n",
            "|DS             |Grand Theft Auto: Chinatown Wars       |730             |15588            |\n",
            "|Wii            |Super Mario Galaxy                     |664             |15068            |\n",
            "|PSP            |God of War: Chains of Olympus          |513             |12448            |\n",
            "|GameCube       |Metroid Prime                          |452             |9494             |\n",
            "|GameBoyAdvance |The Legend of Zelda: A Link to the Past|443             |6534             |\n",
            "|3DS            |The Legend of Zelda: Ocarina of Time 3D|400             |11568            |\n",
            "|PlayStationVita|Persona 4 Golden                       |257             |5882             |\n",
            "|WiiU           |The Legend of Zelda: Breath of the Wild|187             |4752             |\n",
            "|PlayStation    |Tony Hawk's Pro Skater 2               |186             |2170             |\n",
            "|Dreamcast      |SoulCalibur                            |124             |1747             |\n",
            "|Nintendo64     |The Legend of Zelda: Ocarina of Time   |70              |936              |\n",
            "|Stadia         |Get Packed                             |4               |45               |\n",
            "+---------------+---------------------------------------+----------------+-----------------+\n",
            "only showing top 20 rows\n",
            "\n"
          ]
        }
      ],
      "source": [
        "# CodeGrade Tag Ex3\n",
        "### Group the data by platform. Show, for each platform, its highest rated\n",
        "### title, the total number of titles and the total number of critics.\n",
        "### Sort by the Number of Titles in descending order.\n",
        "highest_rated_titles = GamesDF.select('platform', 'score', 'name', 'critics')\\\n",
        "                                                      .orderBy('score', ascending = False)\n",
        "highest_rated_titles = highest_rated_titles.select('platform', 'name', 'critics')\\\n",
        "                                                      .groupBy('platform')\\\n",
        "                                                      .agg(F.first('name'), F.count('name'), F.sum('critics'))\\\n",
        "                                                       .withColumnRenamed('first(name)', 'Highest Rated Title')\\\n",
        "                                                       .withColumnRenamed('count(name)', 'Number of Titles')\\\n",
        "                                                       .withColumnRenamed('sum(critics)', 'Number of Critics')\\\n",
        "                                                      .orderBy('Number of Titles', ascending = False)\n",
        "highest_rated_titles.show(truncate=False)"
      ]
    },
    {
      "cell_type": "markdown",
      "metadata": {
        "id": "WIEZ21wyUn8g"
      },
      "source": [
        "# Exercise 4\n",
        "\n",
        "Print the name of the Platform with the highest percentage of titles of \"Open-World\" genre.\n",
        "\n",
        "*Hint*: every game has multiple genres, so use ```pyspark.sql.Column.contains``` to impose the condition that the list of genres contains \"Open-World\"."
      ]
    },
    {
      "cell_type": "code",
      "execution_count": null,
      "metadata": {
        "id": "LHaC8-59G3Hr",
        "colab": {
          "base_uri": "https://localhost:8080/"
        },
        "outputId": "1255d981-4b35-416c-a5a2-6a3ad93b403b"
      },
      "outputs": [
        {
          "output_type": "stream",
          "name": "stdout",
          "text": [
            "Platform with the highest percentage of Open-World titles: XboxSeriesX\n"
          ]
        }
      ],
      "source": [
        "# CodeGrade Tag Ex4\n",
        "### Print the name of the Platform with the highest percentage of titles of\n",
        "### \"Open-World\" genre\n",
        "\n",
        "# Filter the games with 'Open-World' genre and group by platform\n",
        "open_world_genre = GamesDF.select('platform', 'genre') \\\n",
        "    .where(F.col('genre').contains('Open-World')) \\\n",
        "    .groupBy('platform').count()\n",
        "\n",
        "# Add a new column for total games per platform\n",
        "total_titles_per_platform = GamesDF.groupBy('platform').count() \\\n",
        "    .withColumnRenamed('count', 'total_titles')\n",
        "\n",
        "# Join both DataFrames and calculate the percentage using withColumn\n",
        "platform_percentages = open_world_genre.join(total_titles_per_platform, on='platform') \\\n",
        "    .withColumn('open_world_percentage', (F.col('count') / F.col('total_titles')) * 100) \\\n",
        "    .orderBy(F.col('open_world_percentage').desc())\n",
        "\n",
        "plat_OpenWorld = platform_percentages.collect()[0][0]\n",
        "\n",
        "print(f\"Platform with the highest percentage of Open-World titles: {plat_OpenWorld}\")\n"
      ]
    },
    {
      "cell_type": "markdown",
      "metadata": {
        "id": "ciUez_m4aYmO"
      },
      "source": [
        "# Exercise 5\n",
        "\n",
        "⚠️ Let's define a title *Single Player* if and only if its feature ```player``` is equal either to \"1 Player\" or \"No Online Multiplayer\".\n",
        "\n",
        "For example, *The Legend of Zelda: Ocarina of Time* has ```player``` equal \"1 Player\", so it is a Single Player. For another example, *Grim Fandango* has ```player``` equal \"No Online Multiplayer\", so it is a Single Player too. On the other hand, *Mario Kart 8* has ```player``` equal \"Up to 12\", so it is not a Single Player.\n",
        "\n",
        "Havind defined Single Player titles as above,\n",
        "\n",
        "* Print the total number of distinct Single Player titles.\n",
        "\n",
        "* Print the total number of developers which have developed at least one Single Player title."
      ]
    },
    {
      "cell_type": "code",
      "execution_count": null,
      "metadata": {
        "id": "VXReWf6GmhIw",
        "colab": {
          "base_uri": "https://localhost:8080/"
        },
        "outputId": "dd3417b0-6ac6-4aed-b223-2c083fd689fc"
      },
      "outputs": [
        {
          "output_type": "stream",
          "name": "stdout",
          "text": [
            "Number of Single Player titles: 4838\n",
            "Number of developers of Single Player titles: 2509\n"
          ]
        }
      ],
      "source": [
        "# CodeGrade Tag Ex5\n",
        "### Print the total number of distinct Single Player titles.\n",
        "### Print the total number of developers which have developed at least one Single Player title.\n",
        "\n",
        "SinglePlayer_games = GamesDF.select('name', 'developer', 'players').where(col('players').contains('1 Player') | col('players').contains('No Online Multiplayer'))\n",
        "\n",
        "SinglePlayer_titles = SinglePlayer_games.select('name').distinct().count()\n",
        "\n",
        "SinglePlayer_developers =  SinglePlayer_games.select('developer').distinct().count()\n",
        "\n",
        "print(f\"Number of Single Player titles: {SinglePlayer_titles}\")\n",
        "print(f\"Number of developers of Single Player titles: {SinglePlayer_developers}\")"
      ]
    }
  ],
  "metadata": {
    "colab": {
      "provenance": []
    },
    "kernelspec": {
      "display_name": "Python 3",
      "name": "python3"
    },
    "language_info": {
      "name": "python"
    }
  },
  "nbformat": 4,
  "nbformat_minor": 0
}